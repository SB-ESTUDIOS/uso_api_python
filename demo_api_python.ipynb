{
 "cells": [
  {
   "cell_type": "code",
   "execution_count": null,
   "id": "3415a8bd",
   "metadata": {},
   "outputs": [],
   "source": [
    "#Instalamos las librerías necesarias para nuestro programa\n",
    "#requests para realizar las peticiones vía http.\n",
    "#pandas para tabular la información extraída.\n",
    "#plotly.express para graficar la información.\n",
    "\n",
    "! pip install requests pandas plotly"
   ]
  },
  {
   "cell_type": "code",
   "execution_count": null,
   "id": "76127a42",
   "metadata": {},
   "outputs": [],
   "source": [
    "#Importamos las librerías necesarias para seguir el ejemplo, si no la tienen instaladas lo deben hacer\n",
    "import requests\n",
    "import pandas as pd"
   ]
  },
  {
   "cell_type": "code",
   "execution_count": null,
   "id": "a379dc38",
   "metadata": {},
   "outputs": [],
   "source": [
    "#base_url = \"https://apim-sb-api-prod.azure-api.net/estadisticas\"\n",
    "#Especificamos la URL raíz del API que deseamos utilizar, además de cual ENPOINT vamos a consumir.\n",
    "base_url = 'https://apis.sb.gob.do/estadisticas'\n",
    "end_point = \"/indicadores/financieros/\"\n",
    "\n",
    "#Colocamos los parámetros por lo cual deseamos filtrar o limitar la información, en este caso los parámetros \n",
    "#serán entidad APAP para el indicador Total de activos desde enero 2019 a diciembre 2021.\n",
    "params={'periodoInicial': '2019-01','periodoFinal':'2021-12','entidad':'APAP','indicador':'Total de Activos Netos'}\n",
    "\n",
    "#En el headers enviados el API key que nos fue asignado, utilizando la cabecera Ocp-Apim-Subscription-Key.\n",
    "headers={'Ocp-Apim-Subscription-Key': 'api_key_personal'}"
   ]
  },
  {
   "cell_type": "code",
   "execution_count": null,
   "id": "34ad8e86",
   "metadata": {},
   "outputs": [],
   "source": [
    "#Unificamos todo para armar la consultar y hacemos la petición mediante la librería  requests de Python\n",
    "try:\n",
    "    \n",
    "    response = requests.get(\n",
    "    f'{base_url}{end_point}',\n",
    "    params=params,\n",
    "    headers=headers,\n",
    "    )\n",
    "#Si ocurre una excepción la podemos ver y realizar una acción como enviar un correo o intentar correr un código alternativo.   \n",
    "except Exception as e:\n",
    "    print(e)\n",
    "\n",
    "#Especificamos el tipo de codificación para que pueda presentar los caracteres especiales del idioma.\n",
    "response.encoding = 'utf-8'\n",
    "\n",
    "#Verificamos el estatus de la respuesta\n",
    "response.status_code\n",
    "\n"
   ]
  },
  {
   "cell_type": "code",
   "execution_count": null,
   "id": "a99c53c1",
   "metadata": {
    "scrolled": false
   },
   "outputs": [],
   "source": [
    "#Convertimos la respuesta al formato Json\n",
    "response = response.json()\n",
    "\n",
    "#Creamos un dataframe para un mejor manejo de la información obtenida\n",
    "df = pd.DataFrame(response['data'])"
   ]
  },
  {
   "cell_type": "code",
   "execution_count": null,
   "id": "c3dc4adf",
   "metadata": {},
   "outputs": [],
   "source": [
    "#Validamos el formato de la información extraída\n",
    "df.head()"
   ]
  },
  {
   "cell_type": "code",
   "execution_count": null,
   "id": "b8d7e321",
   "metadata": {},
   "outputs": [],
   "source": [
    "#Procedemos de observar la información de manera visual, para lo cual utilizamos una librería de gráficos llamada plotly express.\n",
    "\n",
    "import plotly.express as px\n",
    "\n",
    "fig = px.line(df, x=\"periodo\", y=\"valor\", title='Total Activos Netos de APAP en RD$ MM', markers=True)\n",
    "fig.update_layout(\n",
    "        title_x=0.5,\n",
    "        yaxis=dict(tickformat=\",.2f\", title=\"\"),\n",
    "\n",
    "        xaxis_title=\"\",\n",
    ")\n",
    "\n",
    "fig.show()"
   ]
  },
  {
   "cell_type": "code",
   "execution_count": null,
   "id": "6a9a85bb",
   "metadata": {},
   "outputs": [],
   "source": []
  }
 ],
 "metadata": {
  "kernelspec": {
   "display_name": "Python 3 (ipykernel)",
   "language": "python",
   "name": "python3"
  },
  "language_info": {
   "codemirror_mode": {
    "name": "ipython",
    "version": 3
   },
   "file_extension": ".py",
   "mimetype": "text/x-python",
   "name": "python",
   "nbconvert_exporter": "python",
   "pygments_lexer": "ipython3",
   "version": "3.9.12"
  }
 },
 "nbformat": 4,
 "nbformat_minor": 5
}
